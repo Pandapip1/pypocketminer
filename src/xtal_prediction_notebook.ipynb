{
 "cells": [
  {
   "cell_type": "code",
   "execution_count": null,
   "id": "efe1e999-4867-45f6-9189-b6faac1a7bcd",
   "metadata": {},
   "outputs": [],
   "source": [
    "import tensorflow as tf\n",
    "from models import MQAModel\n",
    "\n",
    "from validate_performance_on_xtals import process_strucs, predict_on_xtals\n",
    "import sys, os\n",
    "import mdtraj as md\n",
    "from glob import glob\n",
    "import numpy as np"
   ]
  },
  {
   "cell_type": "code",
   "execution_count": null,
   "id": "ef0d1fc9-1c7c-48fc-9475-db14eb54024a",
   "metadata": {},
   "outputs": [],
   "source": [
    "def make_predictions(strucs, model, nn_path):\n",
    "    '''\n",
    "    strucs : list of single frame MDTraj trajectories\n",
    "    model : MQAModel corresponding to network in nn_path\n",
    "    nn_path : path to checkpoint files\n",
    "    '''\n",
    "    X, S, mask = process_strucs(strucs)\n",
    "    predictions = predict_on_xtals(model, nn_path, X, S, mask)\n",
    "    return predictions"
   ]
  },
  {
   "cell_type": "code",
   "execution_count": null,
   "id": "d0c7fe0b-0817-4b21-a260-4f8a402bccbb",
   "metadata": {},
   "outputs": [],
   "source": [
    "pdb_file_path = './data/ACE2.pdb'\n",
    "model_path = './models/cath_pretrained'"
   ]
  },
  {
   "cell_type": "code",
   "execution_count": null,
   "id": "dcd97aa0-1e36-46ab-872f-cef252555678",
   "metadata": {},
   "outputs": [],
   "source": [
    "strucs = [md.load(pdb_file_path)]\n",
    "\n",
    "# create a MQA model\n",
    "DROPOUT_RATE = 0.1\n",
    "NUM_LAYERS = 4\n",
    "HIDDEN_DIM = 100\n",
    "\n",
    "# MQA Model used for selected NN network\n",
    "model = MQAModel(node_features=(8, 50), edge_features=(1, 32), hidden_dim=(16, HIDDEN_DIM),\n",
    "                     num_layers=NUM_LAYERS, dropout=DROPOUT_RATE)\n",
    "\n",
    "predictions = make_predictions(strucs, model, model_path)\n",
    "\n",
    "np.savetxt(os.path.join(output_path,'predictions.txt'), predictions, fmt='%.4g', delimiter='\\n')\n"
   ]
  }
 ],
 "metadata": {
  "kernelspec": {
   "display_name": "Python 3 (ipykernel)",
   "language": "python",
   "name": "python3"
  },
  "language_info": {
   "codemirror_mode": {
    "name": "ipython",
    "version": 3
   },
   "file_extension": ".py",
   "mimetype": "text/x-python",
   "name": "python",
   "nbconvert_exporter": "python",
   "pygments_lexer": "ipython3",
   "version": "3.8.12"
  }
 },
 "nbformat": 4,
 "nbformat_minor": 5
}
